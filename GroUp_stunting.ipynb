{
  "nbformat": 4,
  "nbformat_minor": 0,
  "metadata": {
    "colab": {
      "provenance": [],
      "authorship_tag": "ABX9TyOHBfmLVe0N+1fsp0eoyFuS",
      "include_colab_link": true
    },
    "kernelspec": {
      "name": "python3",
      "display_name": "Python 3"
    },
    "language_info": {
      "name": "python"
    }
  },
  "cells": [
    {
      "cell_type": "markdown",
      "metadata": {
        "id": "view-in-github",
        "colab_type": "text"
      },
      "source": [
        "<a href=\"https://colab.research.google.com/github/DenisKai7/GroUp/blob/ml-training/GroUp_stunting.ipynb\" target=\"_parent\"><img src=\"https://colab.research.google.com/assets/colab-badge.svg\" alt=\"Open In Colab\"/></a>"
      ]
    },
    {
      "cell_type": "markdown",
      "source": [
        "Import Dataset dari GITHUB"
      ],
      "metadata": {
        "id": "4RNfYcxX9Co0"
      }
    },
    {
      "cell_type": "code",
      "execution_count": 2,
      "metadata": {
        "id": "lhTHufHK5gte",
        "colab": {
          "base_uri": "https://localhost:8080/"
        },
        "outputId": "0a1f1a05-ac71-411a-e354-4cc75b5ce472"
      },
      "outputs": [
        {
          "output_type": "stream",
          "name": "stdout",
          "text": [
            "--2024-11-06 01:06:45--  https://github.com/DenisKai7/GroUp/blob/1632d4fbdc7377e667770bfc4754da79b827dd9d/Stunting_Dataset.csv\n",
            "Resolving github.com (github.com)... 20.27.177.113\n",
            "Connecting to github.com (github.com)|20.27.177.113|:443... connected.\n",
            "HTTP request sent, awaiting response... 200 OK\n",
            "Length: unspecified [text/html]\n",
            "Saving to: ‘Stunting_Dataset.csv.1’\n",
            "\n",
            "Stunting_Dataset.cs     [  <=>               ] 688.29K  3.22MB/s    in 0.2s    \n",
            "\n",
            "2024-11-06 01:06:46 (3.22 MB/s) - ‘Stunting_Dataset.csv.1’ saved [704808]\n",
            "\n"
          ]
        }
      ],
      "source": [
        "!wget https://github.com/DenisKai7/GroUp/blob/1632d4fbdc7377e667770bfc4754da79b827dd9d/Stunting_Dataset.csv"
      ]
    },
    {
      "cell_type": "code",
      "source": [
        "!wget https://github.com/DenisKai7/GroUp/blob/df39424862ae2fd7a9923085ef97bdf0746cbd26/nutrition.csv"
      ],
      "metadata": {
        "id": "kVzUJCdlAmx7",
        "outputId": "4e8ea4ed-a169-4bc6-cd2c-3a7ae7251af5",
        "colab": {
          "base_uri": "https://localhost:8080/"
        }
      },
      "execution_count": 3,
      "outputs": [
        {
          "output_type": "stream",
          "name": "stdout",
          "text": [
            "--2024-11-06 01:07:00--  https://github.com/DenisKai7/GroUp/blob/df39424862ae2fd7a9923085ef97bdf0746cbd26/nutrition.csv\n",
            "Resolving github.com (github.com)... 20.27.177.113\n",
            "Connecting to github.com (github.com)|20.27.177.113|:443... connected.\n",
            "HTTP request sent, awaiting response... 200 OK\n",
            "Length: unspecified [text/html]\n",
            "Saving to: ‘nutrition.csv’\n",
            "\n",
            "nutrition.csv           [ <=>                ] 306.84K  1.75MB/s    in 0.2s    \n",
            "\n",
            "2024-11-06 01:07:01 (1.75 MB/s) - ‘nutrition.csv’ saved [314207]\n",
            "\n"
          ]
        }
      ]
    }
  ]
}