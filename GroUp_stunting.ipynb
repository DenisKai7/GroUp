{
  "nbformat": 4,
  "nbformat_minor": 0,
  "metadata": {
    "colab": {
      "provenance": [],
      "authorship_tag": "ABX9TyPNRFMfCoI2bZvJigouxgOp",
      "include_colab_link": true
    },
    "kernelspec": {
      "name": "python3",
      "display_name": "Python 3"
    },
    "language_info": {
      "name": "python"
    }
  },
  "cells": [
    {
      "cell_type": "markdown",
      "metadata": {
        "id": "view-in-github",
        "colab_type": "text"
      },
      "source": [
        "<a href=\"https://colab.research.google.com/github/DenisKai7/GroUp/blob/ml-training/GroUp_stunting.ipynb\" target=\"_parent\"><img src=\"https://colab.research.google.com/assets/colab-badge.svg\" alt=\"Open In Colab\"/></a>"
      ]
    },
    {
      "cell_type": "markdown",
      "source": [
        "Import Dataset dari GITHUB"
      ],
      "metadata": {
        "id": "4RNfYcxX9Co0"
      }
    },
    {
      "cell_type": "code",
      "execution_count": 1,
      "metadata": {
        "id": "lhTHufHK5gte",
        "colab": {
          "base_uri": "https://localhost:8080/"
        },
        "outputId": "5904a166-926b-4bea-8181-1397be16930f"
      },
      "outputs": [
        {
          "output_type": "stream",
          "name": "stdout",
          "text": [
            "--2024-11-06 12:19:48--  https://github.com/DenisKai7/GroUp/blob/1632d4fbdc7377e667770bfc4754da79b827dd9d/Stunting_Dataset.csv\n",
            "Resolving github.com (github.com)... 140.82.116.3\n",
            "Connecting to github.com (github.com)|140.82.116.3|:443... connected.\n",
            "HTTP request sent, awaiting response... 200 OK\n",
            "Length: unspecified [text/html]\n",
            "Saving to: ‘Stunting_Dataset.csv’\n",
            "\n",
            "Stunting_Dataset.cs     [ <=>                ] 688.27K  --.-KB/s    in 0.04s   \n",
            "\n",
            "2024-11-06 12:19:48 (16.4 MB/s) - ‘Stunting_Dataset.csv’ saved [704786]\n",
            "\n"
          ]
        }
      ],
      "source": [
        "!wget https://github.com/DenisKai7/GroUp/blob/1632d4fbdc7377e667770bfc4754da79b827dd9d/Stunting_Dataset.csv"
      ]
    },
    {
      "cell_type": "code",
      "source": [
        "!wget https://github.com/DenisKai7/GroUp/blob/df39424862ae2fd7a9923085ef97bdf0746cbd26/nutrition.csv"
      ],
      "metadata": {
        "id": "kVzUJCdlAmx7",
        "outputId": "c799f0ea-f2a5-478e-d3c1-f3442e2c4da7",
        "colab": {
          "base_uri": "https://localhost:8080/"
        }
      },
      "execution_count": 2,
      "outputs": [
        {
          "output_type": "stream",
          "name": "stdout",
          "text": [
            "--2024-11-06 12:19:53--  https://github.com/DenisKai7/GroUp/blob/df39424862ae2fd7a9923085ef97bdf0746cbd26/nutrition.csv\n",
            "Resolving github.com (github.com)... 140.82.114.3\n",
            "Connecting to github.com (github.com)|140.82.114.3|:443... connected.\n",
            "HTTP request sent, awaiting response... 200 OK\n",
            "Length: unspecified [text/html]\n",
            "Saving to: ‘nutrition.csv’\n",
            "\n",
            "nutrition.csv           [  <=>               ] 306.82K  1.07MB/s    in 0.3s    \n",
            "\n",
            "2024-11-06 12:19:54 (1.07 MB/s) - ‘nutrition.csv’ saved [314182]\n",
            "\n"
          ]
        }
      ]
    },
    {
      "cell_type": "markdown",
      "source": [
        "Import Library yang dibutuhkan"
      ],
      "metadata": {
        "id": "FT3hSyuGewKW"
      }
    },
    {
      "cell_type": "code",
      "source": [
        "import pandas as pd\n",
        "import numpy as np\n",
        "import tensorflow as tf"
      ],
      "metadata": {
        "id": "pG4nQXIRevwE"
      },
      "execution_count": 3,
      "outputs": []
    },
    {
      "cell_type": "code",
      "source": [
        "from sklearn.model_selection import train_test_split\n",
        "from sklearn.ensemble import RandomForestClassifier\n",
        "from sklearn.metrics import classification_report, accuracy_score\n",
        "from sklearn.neighbors import NearestNeighbors\n",
        "from sklearn.preprocessing import StandardScaler, OneHotEncoder\n",
        "from sklearn.compose import ColumnTransformer\n",
        "from sklearn.pipeline import Pipeline\n",
        "from sklearn.impute import SimpleImputer\n",
        "from sklearn.linear_model import LinearRegression\n",
        "from sklearn.metrics import mean_squared_error\n",
        "from sklearn.preprocessing import LabelEncoder"
      ],
      "metadata": {
        "id": "nq7IvYrXe4yE"
      },
      "execution_count": 4,
      "outputs": []
    },
    {
      "cell_type": "markdown",
      "source": [
        "untuk menyimpan model"
      ],
      "metadata": {
        "id": "WpjvD9Y8fC0u"
      }
    },
    {
      "cell_type": "code",
      "source": [
        "import joblib"
      ],
      "metadata": {
        "id": "yQ-APR-mfCea"
      },
      "execution_count": 5,
      "outputs": []
    },
    {
      "cell_type": "markdown",
      "source": [
        "untuk menyimpan rekomendasi dalam format JSON"
      ],
      "metadata": {
        "id": "kinbT7DNfMHX"
      }
    },
    {
      "cell_type": "code",
      "source": [
        "import json"
      ],
      "metadata": {
        "id": "w0gGEl-HfM5R"
      },
      "execution_count": 6,
      "outputs": []
    },
    {
      "cell_type": "markdown",
      "source": [
        "untuk Sistem Rekomendasi"
      ],
      "metadata": {
        "id": "WC-anpXya3LM"
      }
    },
    {
      "cell_type": "code",
      "source": [
        "from sklearn.feature_extraction.text import TfidfVectorizer\n",
        "from sklearn.metrics.pairwise import linear_kernel"
      ],
      "metadata": {
        "id": "PbQG1FFmazSk"
      },
      "execution_count": 7,
      "outputs": []
    },
    {
      "cell_type": "markdown",
      "source": [
        "untuk pengolahan data waktu"
      ],
      "metadata": {
        "id": "RblJQSMMbAzi"
      }
    },
    {
      "cell_type": "code",
      "source": [
        "from datetime import datetime, timedelta"
      ],
      "metadata": {
        "id": "-5CHcMx4bFE2"
      },
      "execution_count": 8,
      "outputs": []
    },
    {
      "cell_type": "markdown",
      "source": [
        "untuk tensorflow lite"
      ],
      "metadata": {
        "id": "BujNXzYLbLFB"
      }
    },
    {
      "cell_type": "code",
      "source": [
        "import tensorflow as tf\n",
        "from tensorflow import keras\n",
        "from tensorflow.keras import layers"
      ],
      "metadata": {
        "id": "cRTMhXWobKyI"
      },
      "execution_count": 9,
      "outputs": []
    },
    {
      "cell_type": "markdown",
      "source": [
        "untuk visualisasi"
      ],
      "metadata": {
        "id": "7igMib86bRaH"
      }
    },
    {
      "cell_type": "code",
      "source": [
        "import matplotlib.pyplot as plt\n",
        "import seaborn as sns"
      ],
      "metadata": {
        "id": "T3hSIEJzbQ_R"
      },
      "execution_count": 10,
      "outputs": []
    },
    {
      "cell_type": "markdown",
      "source": [
        "untuk evaluasi model"
      ],
      "metadata": {
        "id": "aWwAjzgTbbF-"
      }
    },
    {
      "cell_type": "code",
      "source": [
        "from sklearn.metrics import mean_squared_error"
      ],
      "metadata": {
        "id": "ONsltOKzbaQJ"
      },
      "execution_count": 11,
      "outputs": []
    },
    {
      "cell_type": "markdown",
      "source": [
        "untuk menyimpan model tensorflow"
      ],
      "metadata": {
        "id": "sVJyNVs1bgoj"
      }
    },
    {
      "cell_type": "code",
      "source": [
        "import os"
      ],
      "metadata": {
        "id": "McQA9_rhbgNW"
      },
      "execution_count": 12,
      "outputs": []
    }
  ]
}