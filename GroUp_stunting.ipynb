{
  "nbformat": 4,
  "nbformat_minor": 0,
  "metadata": {
    "colab": {
      "provenance": [],
      "include_colab_link": true
    },
    "kernelspec": {
      "name": "python3",
      "display_name": "Python 3"
    },
    "language_info": {
      "name": "python"
    }
  },
  "cells": [
    {
      "cell_type": "markdown",
      "metadata": {
        "id": "view-in-github",
        "colab_type": "text"
      },
      "source": [
        "<a href=\"https://colab.research.google.com/github/DenisKai7/GroUp/blob/ml-training/GroUp_stunting.ipynb\" target=\"_parent\"><img src=\"https://colab.research.google.com/assets/colab-badge.svg\" alt=\"Open In Colab\"/></a>"
      ]
    },
    {
      "cell_type": "markdown",
      "source": [
        "Import Dataset dari github"
      ],
      "metadata": {
        "id": "4RNfYcxX9Co0"
      }
    },
    {
      "cell_type": "code",
      "source": [
        "!git clone https://github.com/DenisKai7/GroUp.git"
      ],
      "metadata": {
        "id": "rIvIgkdlwQx5",
        "outputId": "e09804f9-c7fb-4b47-dbce-07127499e0b8",
        "colab": {
          "base_uri": "https://localhost:8080/"
        }
      },
      "execution_count": 2,
      "outputs": [
        {
          "output_type": "stream",
          "name": "stdout",
          "text": [
            "Cloning into 'GroUp'...\n",
            "remote: Enumerating objects: 69, done.\u001b[K\n",
            "remote: Counting objects: 100% (69/69), done.\u001b[K\n",
            "remote: Compressing objects: 100% (56/56), done.\u001b[K\n",
            "remote: Total 69 (delta 15), reused 4 (delta 0), pack-reused 0 (from 0)\u001b[K\n",
            "Receiving objects: 100% (69/69), 92.22 KiB | 2.36 MiB/s, done.\n",
            "Resolving deltas: 100% (15/15), done.\n"
          ]
        }
      ]
    },
    {
      "cell_type": "code",
      "source": [
        "%cd GroUp\n",
        "!git checkout dataset"
      ],
      "metadata": {
        "id": "lEf65dKrx245",
        "outputId": "f8bf2a07-69b9-42b7-ff98-cc558896cc55",
        "colab": {
          "base_uri": "https://localhost:8080/"
        }
      },
      "execution_count": 3,
      "outputs": [
        {
          "output_type": "stream",
          "name": "stdout",
          "text": [
            "/content/GroUp\n",
            "Branch 'dataset' set up to track remote branch 'dataset' from 'origin'.\n",
            "Switched to a new branch 'dataset'\n"
          ]
        }
      ]
    },
    {
      "cell_type": "code",
      "source": [
        "!pip install optuna"
      ],
      "metadata": {
        "id": "bIFso5Jg8S0I",
        "outputId": "92cc7325-c6d5-4c44-9cdd-2a918cbcfaac",
        "colab": {
          "base_uri": "https://localhost:8080/"
        }
      },
      "execution_count": 4,
      "outputs": [
        {
          "output_type": "stream",
          "name": "stdout",
          "text": [
            "Collecting optuna\n",
            "  Downloading optuna-4.1.0-py3-none-any.whl.metadata (16 kB)\n",
            "Collecting alembic>=1.5.0 (from optuna)\n",
            "  Downloading alembic-1.14.0-py3-none-any.whl.metadata (7.4 kB)\n",
            "Collecting colorlog (from optuna)\n",
            "  Downloading colorlog-6.9.0-py3-none-any.whl.metadata (10 kB)\n",
            "Requirement already satisfied: numpy in /usr/local/lib/python3.10/dist-packages (from optuna) (1.26.4)\n",
            "Requirement already satisfied: packaging>=20.0 in /usr/local/lib/python3.10/dist-packages (from optuna) (24.1)\n",
            "Requirement already satisfied: sqlalchemy>=1.4.2 in /usr/local/lib/python3.10/dist-packages (from optuna) (2.0.36)\n",
            "Requirement already satisfied: tqdm in /usr/local/lib/python3.10/dist-packages (from optuna) (4.66.6)\n",
            "Requirement already satisfied: PyYAML in /usr/local/lib/python3.10/dist-packages (from optuna) (6.0.2)\n",
            "Collecting Mako (from alembic>=1.5.0->optuna)\n",
            "  Downloading Mako-1.3.6-py3-none-any.whl.metadata (2.9 kB)\n",
            "Requirement already satisfied: typing-extensions>=4 in /usr/local/lib/python3.10/dist-packages (from alembic>=1.5.0->optuna) (4.12.2)\n",
            "Requirement already satisfied: greenlet!=0.4.17 in /usr/local/lib/python3.10/dist-packages (from sqlalchemy>=1.4.2->optuna) (3.1.1)\n",
            "Requirement already satisfied: MarkupSafe>=0.9.2 in /usr/local/lib/python3.10/dist-packages (from Mako->alembic>=1.5.0->optuna) (3.0.2)\n",
            "Downloading optuna-4.1.0-py3-none-any.whl (364 kB)\n",
            "\u001b[2K   \u001b[90m━━━━━━━━━━━━━━━━━━━━━━━━━━━━━━━━━━━━━━━━\u001b[0m \u001b[32m364.4/364.4 kB\u001b[0m \u001b[31m4.8 MB/s\u001b[0m eta \u001b[36m0:00:00\u001b[0m\n",
            "\u001b[?25hDownloading alembic-1.14.0-py3-none-any.whl (233 kB)\n",
            "\u001b[2K   \u001b[90m━━━━━━━━━━━━━━━━━━━━━━━━━━━━━━━━━━━━━━━━\u001b[0m \u001b[32m233.5/233.5 kB\u001b[0m \u001b[31m12.2 MB/s\u001b[0m eta \u001b[36m0:00:00\u001b[0m\n",
            "\u001b[?25hDownloading colorlog-6.9.0-py3-none-any.whl (11 kB)\n",
            "Downloading Mako-1.3.6-py3-none-any.whl (78 kB)\n",
            "\u001b[2K   \u001b[90m━━━━━━━━━━━━━━━━━━━━━━━━━━━━━━━━━━━━━━━━\u001b[0m \u001b[32m78.6/78.6 kB\u001b[0m \u001b[31m2.7 MB/s\u001b[0m eta \u001b[36m0:00:00\u001b[0m\n",
            "\u001b[?25hInstalling collected packages: Mako, colorlog, alembic, optuna\n",
            "Successfully installed Mako-1.3.6 alembic-1.14.0 colorlog-6.9.0 optuna-4.1.0\n"
          ]
        }
      ]
    },
    {
      "cell_type": "markdown",
      "source": [
        "Import Library yang dibutuhkan"
      ],
      "metadata": {
        "id": "FT3hSyuGewKW"
      }
    },
    {
      "cell_type": "code",
      "source": [
        "import pandas as pd\n",
        "import numpy as np\n",
        "import tensorflow as tf\n",
        "from tensorflow import keras\n",
        "from sklearn.model_selection import train_test_split\n",
        "from sklearn.preprocessing import StandardScaler, LabelEncoder\n",
        "from sklearn.ensemble import RandomForestClassifier\n",
        "from sklearn.metrics import accuracy_score, classification_report, confusion_matrix\n",
        "from sklearn.neighbors import NearestNeighbors\n",
        "import matplotlib.pyplot as plt\n",
        "import seaborn as sns\n",
        "import optuna\n",
        "from tensorflow.keras.preprocessing import sequence\n",
        "from tensorflow.keras.models import Sequential\n",
        "from tensorflow.keras.layers import LSTM, Dense, Dropout"
      ],
      "metadata": {
        "id": "pG4nQXIRevwE"
      },
      "execution_count": 5,
      "outputs": []
    },
    {
      "cell_type": "markdown",
      "source": [
        "**Preprocessing**"
      ],
      "metadata": {
        "id": "4aqduzviON3f"
      }
    },
    {
      "cell_type": "markdown",
      "source": [
        "load dataset"
      ],
      "metadata": {
        "id": "YGLhyGZLOT9Y"
      }
    },
    {
      "cell_type": "code",
      "source": [
        "#Load Dataset\n",
        "data_path = '/content/GroUp/Stunting_Dataset.csv'\n",
        "nutrition_data_path = '/content/GroUp/nutrition.csv'\n",
        "data = pd.read_csv(data_path)\n",
        "nutrition_data = pd.read_csv(nutrition_data_path)\n",
        "\n",
        "#Preprocessing Data\n",
        "class DataPreprocessor:\n",
        "    def __init__(self, data):\n",
        "        self.data = data\n",
        "        self.scaler = StandardScaler()\n",
        "        self.label_encoder = LabelEncoder()\n",
        "\n",
        "    def preprocess(self):\n",
        "        # Handle missing values\n",
        "        self._handle_missing_values()\n",
        "        # Feature engineering\n",
        "        self._feature_engineering()\n",
        "        return self._prepare_model_data()\n",
        "\n",
        "    def _handle_missing_values(self):\n",
        "        numeric_columns = self.data.select_dtypes(include=[np.number]).columns\n",
        "        self.data[numeric_columns] = self.data[numeric_columns].fillna(\n",
        "            self.data[numeric_columns].median()\n",
        "        )\n",
        "\n",
        "    def _feature_engineering(self):\n",
        "        self.data['BMI'] = self.data['Body Weight'] / ((self.data['Body Length'] / 100) ** 2)\n",
        "        self.data['Gender_Encoded'] = self.label_encoder.fit_transform(self.data['Gender'])\n",
        "\n",
        "    def _prepare_model_data(self):\n",
        "        features = ['Age', 'Birth Weight', 'Birth Length', 'Body Weight',\n",
        "                    'Body Length', 'BMI', 'Gender_Encoded']\n",
        "        X = self.data[features]\n",
        "        y = self.label_encoder.fit_transform(self.data['Stunting'])\n",
        "\n",
        "        X_scaled = self.scaler.fit_transform(X)\n",
        "        return X_scaled, y\n",
        "\n",
        "preprocessor = DataPreprocessor(data)\n",
        "X, y = preprocessor.preprocess()"
      ],
      "metadata": {
        "id": "2qgDi8uU1RG5"
      },
      "execution_count": 7,
      "outputs": []
    },
    {
      "cell_type": "code",
      "source": [
        "class ModelTrainer:\n",
        "    def __init__(self):\n",
        "        self.models = {}\n",
        "\n",
        "    def train_random_forest(self, X, y):\n",
        "        def objective(trial):\n",
        "            params = {\n",
        "                'n_estimators': trial.suggest_int('n_estimators', 50, 300),\n",
        "                'max_depth': trial.suggest_int('max_depth', 3, 10),\n",
        "                'min_samples_split': trial.suggest_int('min_samples_split', 2, 10)\n",
        "            }\n",
        "\n",
        "            rf = RandomForestClassifier(**params)\n",
        "            rf.fit(X, y)\n",
        "\n",
        "            y_pred = rf.predict(X)\n",
        "            return accuracy_score(y, y_pred)\n",
        "\n",
        "        study = optuna.create_study(direction='maximize')\n",
        "        study.optimize(objective, n_trials=50)\n",
        "\n",
        "        best_rf = RandomForestClassifier(**study.best_params)\n",
        "        best_rf.fit(X, y)\n",
        "        return best_rf, study.best_params\n",
        "\n",
        "trainer = ModelTrainer()\n",
        "rf_model, rf_params = trainer.train_random_forest(X, y)"
      ],
      "metadata": {
        "id": "7Tkw_VnZ4CUV",
        "outputId": "9a57f695-7775-40dc-fdf5-5f9241c91002",
        "colab": {
          "base_uri": "https://localhost:8080/"
        }
      },
      "execution_count": 9,
      "outputs": [
        {
          "output_type": "stream",
          "name": "stderr",
          "text": [
            "[I 2024-11-12 15:16:59,577] A new study created in memory with name: no-name-21a3dc41-1db5-4667-b5bf-0b35d0fe510d\n",
            "[I 2024-11-12 15:17:00,008] Trial 0 finished with value: 0.8821 and parameters: {'n_estimators': 53, 'max_depth': 9, 'min_samples_split': 7}. Best is trial 0 with value: 0.8821.\n",
            "[I 2024-11-12 15:17:01,588] Trial 1 finished with value: 0.8611 and parameters: {'n_estimators': 273, 'max_depth': 5, 'min_samples_split': 5}. Best is trial 0 with value: 0.8821.\n",
            "[I 2024-11-12 15:17:02,279] Trial 2 finished with value: 0.8821 and parameters: {'n_estimators': 87, 'max_depth': 9, 'min_samples_split': 8}. Best is trial 0 with value: 0.8821.\n",
            "[I 2024-11-12 15:17:03,616] Trial 3 finished with value: 0.8613 and parameters: {'n_estimators': 239, 'max_depth': 5, 'min_samples_split': 10}. Best is trial 0 with value: 0.8821.\n",
            "[I 2024-11-12 15:17:05,109] Trial 4 finished with value: 0.8824 and parameters: {'n_estimators': 187, 'max_depth': 9, 'min_samples_split': 8}. Best is trial 4 with value: 0.8824.\n",
            "[I 2024-11-12 15:17:07,425] Trial 5 finished with value: 0.8948 and parameters: {'n_estimators': 244, 'max_depth': 10, 'min_samples_split': 3}. Best is trial 5 with value: 0.8948.\n",
            "[I 2024-11-12 15:17:08,564] Trial 6 finished with value: 0.8718 and parameters: {'n_estimators': 129, 'max_depth': 7, 'min_samples_split': 5}. Best is trial 5 with value: 0.8948.\n",
            "[I 2024-11-12 15:17:09,222] Trial 7 finished with value: 0.877 and parameters: {'n_estimators': 80, 'max_depth': 8, 'min_samples_split': 8}. Best is trial 5 with value: 0.8948.\n",
            "[I 2024-11-12 15:17:10,858] Trial 8 finished with value: 0.8616 and parameters: {'n_estimators': 232, 'max_depth': 5, 'min_samples_split': 8}. Best is trial 5 with value: 0.8948.\n",
            "[I 2024-11-12 15:17:13,150] Trial 9 finished with value: 0.872 and parameters: {'n_estimators': 239, 'max_depth': 7, 'min_samples_split': 4}. Best is trial 5 with value: 0.8948.\n",
            "[I 2024-11-12 15:17:15,513] Trial 10 finished with value: 0.8964 and parameters: {'n_estimators': 295, 'max_depth': 10, 'min_samples_split': 2}. Best is trial 10 with value: 0.8964.\n",
            "[I 2024-11-12 15:17:17,796] Trial 11 finished with value: 0.8979 and parameters: {'n_estimators': 300, 'max_depth': 10, 'min_samples_split': 2}. Best is trial 11 with value: 0.8979.\n",
            "[I 2024-11-12 15:17:20,054] Trial 12 finished with value: 0.8974 and parameters: {'n_estimators': 300, 'max_depth': 10, 'min_samples_split': 2}. Best is trial 11 with value: 0.8979.\n",
            "[I 2024-11-12 15:17:21,254] Trial 13 finished with value: 0.8535 and parameters: {'n_estimators': 294, 'max_depth': 3, 'min_samples_split': 2}. Best is trial 11 with value: 0.8979.\n",
            "[I 2024-11-12 15:17:22,711] Trial 14 finished with value: 0.8936 and parameters: {'n_estimators': 191, 'max_depth': 10, 'min_samples_split': 3}. Best is trial 11 with value: 0.8979.\n",
            "[I 2024-11-12 15:17:24,884] Trial 15 finished with value: 0.8801 and parameters: {'n_estimators': 266, 'max_depth': 8, 'min_samples_split': 2}. Best is trial 11 with value: 0.8979.\n",
            "[I 2024-11-12 15:17:26,414] Trial 16 finished with value: 0.8781 and parameters: {'n_estimators': 151, 'max_depth': 8, 'min_samples_split': 4}. Best is trial 11 with value: 0.8979.\n",
            "[I 2024-11-12 15:17:27,692] Trial 17 finished with value: 0.865 and parameters: {'n_estimators': 209, 'max_depth': 6, 'min_samples_split': 3}. Best is trial 11 with value: 0.8979.\n",
            "[I 2024-11-12 15:17:28,804] Trial 18 finished with value: 0.8537 and parameters: {'n_estimators': 272, 'max_depth': 3, 'min_samples_split': 6}. Best is trial 11 with value: 0.8979.\n",
            "[I 2024-11-12 15:17:31,075] Trial 19 finished with value: 0.892 and parameters: {'n_estimators': 300, 'max_depth': 10, 'min_samples_split': 4}. Best is trial 11 with value: 0.8979.\n",
            "[I 2024-11-12 15:17:32,182] Trial 20 finished with value: 0.8877 and parameters: {'n_estimators': 157, 'max_depth': 9, 'min_samples_split': 2}. Best is trial 11 with value: 0.8979.\n",
            "[I 2024-11-12 15:17:34,467] Trial 21 finished with value: 0.8967 and parameters: {'n_estimators': 299, 'max_depth': 10, 'min_samples_split': 2}. Best is trial 11 with value: 0.8979.\n",
            "[I 2024-11-12 15:17:36,427] Trial 22 finished with value: 0.8942 and parameters: {'n_estimators': 261, 'max_depth': 10, 'min_samples_split': 3}. Best is trial 11 with value: 0.8979.\n",
            "[I 2024-11-12 15:17:39,147] Trial 23 finished with value: 0.8886 and parameters: {'n_estimators': 279, 'max_depth': 9, 'min_samples_split': 2}. Best is trial 11 with value: 0.8979.\n",
            "[I 2024-11-12 15:17:41,060] Trial 24 finished with value: 0.8789 and parameters: {'n_estimators': 217, 'max_depth': 8, 'min_samples_split': 3}. Best is trial 11 with value: 0.8979.\n",
            "[I 2024-11-12 15:17:43,306] Trial 25 finished with value: 0.8914 and parameters: {'n_estimators': 300, 'max_depth': 10, 'min_samples_split': 5}. Best is trial 11 with value: 0.8979.\n",
            "[I 2024-11-12 15:17:45,106] Trial 26 finished with value: 0.8867 and parameters: {'n_estimators': 256, 'max_depth': 9, 'min_samples_split': 4}. Best is trial 11 with value: 0.8979.\n",
            "[I 2024-11-12 15:17:47,141] Trial 27 finished with value: 0.8857 and parameters: {'n_estimators': 280, 'max_depth': 10, 'min_samples_split': 10}. Best is trial 11 with value: 0.8979.\n",
            "[I 2024-11-12 15:17:48,422] Trial 28 finished with value: 0.8723 and parameters: {'n_estimators': 218, 'max_depth': 7, 'min_samples_split': 2}. Best is trial 11 with value: 0.8979.\n",
            "[I 2024-11-12 15:17:50,367] Trial 29 finished with value: 0.8834 and parameters: {'n_estimators': 282, 'max_depth': 9, 'min_samples_split': 6}. Best is trial 11 with value: 0.8979.\n",
            "[I 2024-11-12 15:17:52,663] Trial 30 finished with value: 0.8796 and parameters: {'n_estimators': 253, 'max_depth': 8, 'min_samples_split': 3}. Best is trial 11 with value: 0.8979.\n",
            "[I 2024-11-12 15:17:55,354] Trial 31 finished with value: 0.8963 and parameters: {'n_estimators': 291, 'max_depth': 10, 'min_samples_split': 2}. Best is trial 11 with value: 0.8979.\n",
            "[I 2024-11-12 15:17:57,627] Trial 32 finished with value: 0.8971 and parameters: {'n_estimators': 300, 'max_depth': 10, 'min_samples_split': 2}. Best is trial 11 with value: 0.8979.\n",
            "[I 2024-11-12 15:17:59,517] Trial 33 finished with value: 0.8856 and parameters: {'n_estimators': 272, 'max_depth': 9, 'min_samples_split': 3}. Best is trial 11 with value: 0.8979.\n",
            "[I 2024-11-12 15:18:01,704] Trial 34 finished with value: 0.8974 and parameters: {'n_estimators': 284, 'max_depth': 10, 'min_samples_split': 2}. Best is trial 11 with value: 0.8979.\n",
            "[I 2024-11-12 15:18:03,668] Trial 35 finished with value: 0.8853 and parameters: {'n_estimators': 282, 'max_depth': 9, 'min_samples_split': 4}. Best is trial 11 with value: 0.8979.\n",
            "[I 2024-11-12 15:18:05,989] Trial 36 finished with value: 0.8838 and parameters: {'n_estimators': 252, 'max_depth': 9, 'min_samples_split': 7}. Best is trial 11 with value: 0.8979.\n",
            "[I 2024-11-12 15:18:06,890] Trial 37 finished with value: 0.8563 and parameters: {'n_estimators': 123, 'max_depth': 4, 'min_samples_split': 3}. Best is trial 11 with value: 0.8979.\n",
            "[I 2024-11-12 15:18:07,567] Trial 38 finished with value: 0.896 and parameters: {'n_estimators': 57, 'max_depth': 10, 'min_samples_split': 2}. Best is trial 11 with value: 0.8979.\n",
            "[I 2024-11-12 15:18:09,306] Trial 39 finished with value: 0.8815 and parameters: {'n_estimators': 229, 'max_depth': 9, 'min_samples_split': 9}. Best is trial 11 with value: 0.8979.\n",
            "[I 2024-11-12 15:18:11,295] Trial 40 finished with value: 0.8926 and parameters: {'n_estimators': 262, 'max_depth': 10, 'min_samples_split': 4}. Best is trial 11 with value: 0.8979.\n",
            "[I 2024-11-12 15:18:13,461] Trial 41 finished with value: 0.896 and parameters: {'n_estimators': 286, 'max_depth': 10, 'min_samples_split': 2}. Best is trial 11 with value: 0.8979.\n",
            "[I 2024-11-12 15:18:15,735] Trial 42 finished with value: 0.8959 and parameters: {'n_estimators': 300, 'max_depth': 10, 'min_samples_split': 2}. Best is trial 11 with value: 0.8979.\n",
            "[I 2024-11-12 15:18:17,748] Trial 43 finished with value: 0.8945 and parameters: {'n_estimators': 270, 'max_depth': 10, 'min_samples_split': 3}. Best is trial 11 with value: 0.8979.\n",
            "[I 2024-11-12 15:18:19,948] Trial 44 finished with value: 0.8655 and parameters: {'n_estimators': 289, 'max_depth': 6, 'min_samples_split': 2}. Best is trial 11 with value: 0.8979.\n",
            "[I 2024-11-12 15:18:22,304] Trial 45 finished with value: 0.8862 and parameters: {'n_estimators': 246, 'max_depth': 9, 'min_samples_split': 3}. Best is trial 11 with value: 0.8979.\n",
            "[I 2024-11-12 15:18:24,470] Trial 46 finished with value: 0.8965 and parameters: {'n_estimators': 286, 'max_depth': 10, 'min_samples_split': 2}. Best is trial 11 with value: 0.8979.\n",
            "[I 2024-11-12 15:18:26,646] Trial 47 finished with value: 0.878 and parameters: {'n_estimators': 270, 'max_depth': 8, 'min_samples_split': 3}. Best is trial 11 with value: 0.8979.\n",
            "[I 2024-11-12 15:18:28,105] Trial 48 finished with value: 0.8883 and parameters: {'n_estimators': 195, 'max_depth': 10, 'min_samples_split': 7}. Best is trial 11 with value: 0.8979.\n",
            "[I 2024-11-12 15:18:29,754] Trial 49 finished with value: 0.8847 and parameters: {'n_estimators': 233, 'max_depth': 9, 'min_samples_split': 5}. Best is trial 11 with value: 0.8979.\n"
          ]
        }
      ]
    },
    {
      "cell_type": "markdown",
      "source": [],
      "metadata": {
        "id": "23pnwdMJPLJH"
      }
    }
  ]
}