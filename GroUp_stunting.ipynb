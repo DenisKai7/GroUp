{
  "nbformat": 4,
  "nbformat_minor": 0,
  "metadata": {
    "colab": {
      "provenance": [],
      "authorship_tag": "ABX9TyOy/Yfv8QwOtoY9dSZBX7Vo",
      "include_colab_link": true
    },
    "kernelspec": {
      "name": "python3",
      "display_name": "Python 3"
    },
    "language_info": {
      "name": "python"
    }
  },
  "cells": [
    {
      "cell_type": "markdown",
      "metadata": {
        "id": "view-in-github",
        "colab_type": "text"
      },
      "source": [
        "<a href=\"https://colab.research.google.com/github/DenisKai7/GroUp/blob/ml-training/GroUp_stunting.ipynb\" target=\"_parent\"><img src=\"https://colab.research.google.com/assets/colab-badge.svg\" alt=\"Open In Colab\"/></a>"
      ]
    },
    {
      "cell_type": "markdown",
      "source": [
        "Import Dataset dari GITHUB"
      ],
      "metadata": {
        "id": "4RNfYcxX9Co0"
      }
    },
    {
      "cell_type": "code",
      "execution_count": 1,
      "metadata": {
        "id": "lhTHufHK5gte",
        "outputId": "8d222502-7727-43b3-8380-2f17b8298489",
        "colab": {
          "base_uri": "https://localhost:8080/"
        }
      },
      "outputs": [
        {
          "output_type": "stream",
          "name": "stdout",
          "text": [
            "--2024-11-06 00:53:45--  https://github.com/DenisKai7/GroUp/blob/1632d4fbdc7377e667770bfc4754da79b827dd9d/Stunting_Dataset.csv\n",
            "Resolving github.com (github.com)... 20.27.177.113\n",
            "Connecting to github.com (github.com)|20.27.177.113|:443... connected.\n",
            "HTTP request sent, awaiting response... 200 OK\n",
            "Length: unspecified [text/html]\n",
            "Saving to: ‘Stunting_Dataset.csv’\n",
            "\n",
            "Stunting_Dataset.cs     [  <=>               ] 688.29K  3.26MB/s    in 0.2s    \n",
            "\n",
            "2024-11-06 00:53:46 (3.26 MB/s) - ‘Stunting_Dataset.csv’ saved [704809]\n",
            "\n"
          ]
        }
      ],
      "source": [
        "!wget https://github.com/DenisKai7/GroUp/blob/1632d4fbdc7377e667770bfc4754da79b827dd9d/Stunting_Dataset.csv"
      ]
    }
  ]
}