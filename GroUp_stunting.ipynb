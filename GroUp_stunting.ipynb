{
  "nbformat": 4,
  "nbformat_minor": 0,
  "metadata": {
    "colab": {
      "provenance": [],
      "authorship_tag": "ABX9TyPndCmfLSzrCNLUuvIjPAjU",
      "include_colab_link": true
    },
    "kernelspec": {
      "name": "python3",
      "display_name": "Python 3"
    },
    "language_info": {
      "name": "python"
    }
  },
  "cells": [
    {
      "cell_type": "markdown",
      "metadata": {
        "id": "view-in-github",
        "colab_type": "text"
      },
      "source": [
        "<a href=\"https://colab.research.google.com/github/DenisKai7/GroUp/blob/ml-training/GroUp_stunting.ipynb\" target=\"_parent\"><img src=\"https://colab.research.google.com/assets/colab-badge.svg\" alt=\"Open In Colab\"/></a>"
      ]
    },
    {
      "cell_type": "markdown",
      "source": [
        "Import Dataset dari GITHUB"
      ],
      "metadata": {
        "id": "4RNfYcxX9Co0"
      }
    },
    {
      "cell_type": "code",
      "execution_count": 1,
      "metadata": {
        "id": "lhTHufHK5gte",
        "colab": {
          "base_uri": "https://localhost:8080/"
        },
        "outputId": "7788cf68-c9d0-4893-b97f-b9250c2ecb69"
      },
      "outputs": [
        {
          "output_type": "stream",
          "name": "stdout",
          "text": [
            "--2024-11-06 07:57:49--  https://github.com/DenisKai7/GroUp/blob/1632d4fbdc7377e667770bfc4754da79b827dd9d/Stunting_Dataset.csv\n",
            "Resolving github.com (github.com)... 140.82.112.4\n",
            "Connecting to github.com (github.com)|140.82.112.4|:443... connected.\n",
            "HTTP request sent, awaiting response... 200 OK\n",
            "Length: unspecified [text/html]\n",
            "Saving to: ‘Stunting_Dataset.csv’\n",
            "\n",
            "Stunting_Dataset.cs     [ <=>                ] 824.19K  --.-KB/s    in 0.08s   \n",
            "\n",
            "2024-11-06 07:57:50 (10.6 MB/s) - ‘Stunting_Dataset.csv’ saved [843971]\n",
            "\n"
          ]
        }
      ],
      "source": [
        "!wget https://github.com/DenisKai7/GroUp/blob/1632d4fbdc7377e667770bfc4754da79b827dd9d/Stunting_Dataset.csv"
      ]
    },
    {
      "cell_type": "code",
      "source": [
        "!wget https://github.com/DenisKai7/GroUp/blob/df39424862ae2fd7a9923085ef97bdf0746cbd26/nutrition.csv"
      ],
      "metadata": {
        "id": "kVzUJCdlAmx7",
        "outputId": "b09caf7c-24f3-45dc-c7a3-d8cf6aa1d837",
        "colab": {
          "base_uri": "https://localhost:8080/"
        }
      },
      "execution_count": 2,
      "outputs": [
        {
          "output_type": "stream",
          "name": "stdout",
          "text": [
            "--2024-11-06 07:57:54--  https://github.com/DenisKai7/GroUp/blob/df39424862ae2fd7a9923085ef97bdf0746cbd26/nutrition.csv\n",
            "Resolving github.com (github.com)... 140.82.113.3\n",
            "Connecting to github.com (github.com)|140.82.113.3|:443... connected.\n",
            "HTTP request sent, awaiting response... 200 OK\n",
            "Length: unspecified [text/html]\n",
            "Saving to: ‘nutrition.csv’\n",
            "\n",
            "\rnutrition.csv           [<=>                 ]       0  --.-KB/s               \rnutrition.csv           [ <=>                ] 170.95K  --.-KB/s    in 0.05s   \n",
            "\n",
            "2024-11-06 07:57:55 (3.40 MB/s) - ‘nutrition.csv’ saved [175048]\n",
            "\n"
          ]
        }
      ]
    },
    {
      "cell_type": "markdown",
      "source": [
        "Import Library yang dibutuhkan"
      ],
      "metadata": {
        "id": "FT3hSyuGewKW"
      }
    },
    {
      "cell_type": "code",
      "source": [
        "import pandas as pd\n",
        "import numpy as np\n",
        "import tensorflow as tf"
      ],
      "metadata": {
        "id": "pG4nQXIRevwE"
      },
      "execution_count": 3,
      "outputs": []
    },
    {
      "cell_type": "code",
      "source": [
        "from sklearn.model_selection import train_test_split\n",
        "from sklearn.ensemble import RandomForestClassifier\n",
        "from sklearn.metrics import classification_report, accuracy_score\n",
        "from sklearn.neighbors import NearestNeighbors\n",
        "from sklearn.preprocessing import StandardScaler, OneHotEncoder\n",
        "from sklearn.compose import ColumnTransformer\n",
        "from sklearn.pipeline import Pipeline\n",
        "from sklearn.impute import SimpleImputer\n",
        "from sklearn.linear_model import LinearRegression\n",
        "from sklearn.metrics import mean_squared_error\n",
        "from sklearn.preprocessing import LabelEncoder"
      ],
      "metadata": {
        "id": "nq7IvYrXe4yE"
      },
      "execution_count": 4,
      "outputs": []
    },
    {
      "cell_type": "markdown",
      "source": [
        "untuk menyimpan model"
      ],
      "metadata": {
        "id": "WpjvD9Y8fC0u"
      }
    },
    {
      "cell_type": "code",
      "source": [
        "import joblib"
      ],
      "metadata": {
        "id": "yQ-APR-mfCea"
      },
      "execution_count": 5,
      "outputs": []
    },
    {
      "cell_type": "markdown",
      "source": [
        "untuk menyimpan rekomendasi dalam format JSON"
      ],
      "metadata": {
        "id": "kinbT7DNfMHX"
      }
    },
    {
      "cell_type": "code",
      "source": [
        "import json"
      ],
      "metadata": {
        "id": "w0gGEl-HfM5R"
      },
      "execution_count": 7,
      "outputs": []
    }
  ]
}