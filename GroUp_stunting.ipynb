{
  "nbformat": 4,
  "nbformat_minor": 0,
  "metadata": {
    "colab": {
      "provenance": [],
      "authorship_tag": "ABX9TyPSUnhZND2D8dL7AIs6JpdC",
      "include_colab_link": true
    },
    "kernelspec": {
      "name": "python3",
      "display_name": "Python 3"
    },
    "language_info": {
      "name": "python"
    }
  },
  "cells": [
    {
      "cell_type": "markdown",
      "metadata": {
        "id": "view-in-github",
        "colab_type": "text"
      },
      "source": [
        "<a href=\"https://colab.research.google.com/github/DenisKai7/GroUp/blob/ml-training/GroUp_stunting.ipynb\" target=\"_parent\"><img src=\"https://colab.research.google.com/assets/colab-badge.svg\" alt=\"Open In Colab\"/></a>"
      ]
    },
    {
      "cell_type": "markdown",
      "source": [
        "Import Dataset dari github"
      ],
      "metadata": {
        "id": "4RNfYcxX9Co0"
      }
    },
    {
      "cell_type": "code",
      "source": [
        "!git clone https://github.com/DenisKai7/GroUp.git"
      ],
      "metadata": {
        "id": "rIvIgkdlwQx5",
        "outputId": "63316025-9392-4163-a25e-15167303702e",
        "colab": {
          "base_uri": "https://localhost:8080/"
        }
      },
      "execution_count": 33,
      "outputs": [
        {
          "output_type": "stream",
          "name": "stdout",
          "text": [
            "Cloning into 'GroUp'...\n",
            "remote: Enumerating objects: 34, done.\u001b[K\n",
            "remote: Counting objects: 100% (34/34), done.\u001b[K\n",
            "remote: Compressing objects: 100% (24/24), done.\u001b[K\n",
            "remote: Total 34 (delta 5), reused 0 (delta 0), pack-reused 0 (from 0)\u001b[K\n",
            "Receiving objects: 100% (34/34), 74.66 KiB | 2.41 MiB/s, done.\n",
            "Resolving deltas: 100% (5/5), done.\n"
          ]
        }
      ]
    },
    {
      "cell_type": "code",
      "source": [
        "%cd GroUp\n",
        "!git checkout dataset"
      ],
      "metadata": {
        "id": "lEf65dKrx245",
        "outputId": "60062602-38b9-4051-b15c-9378da8ad5fe",
        "colab": {
          "base_uri": "https://localhost:8080/"
        }
      },
      "execution_count": 34,
      "outputs": [
        {
          "output_type": "stream",
          "name": "stdout",
          "text": [
            "/content/GroUp/GroUp\n",
            "Branch 'dataset' set up to track remote branch 'dataset' from 'origin'.\n",
            "Switched to a new branch 'dataset'\n"
          ]
        }
      ]
    },
    {
      "cell_type": "code",
      "source": [
        "!pip install chardet"
      ],
      "metadata": {
        "id": "bIFso5Jg8S0I",
        "outputId": "6da19875-e4e9-4a3a-e4c0-bcbe2901289d",
        "colab": {
          "base_uri": "https://localhost:8080/"
        }
      },
      "execution_count": 35,
      "outputs": [
        {
          "output_type": "stream",
          "name": "stdout",
          "text": [
            "Requirement already satisfied: chardet in /usr/local/lib/python3.10/dist-packages (5.2.0)\n"
          ]
        }
      ]
    },
    {
      "cell_type": "markdown",
      "source": [
        "Import Library yang dibutuhkan"
      ],
      "metadata": {
        "id": "FT3hSyuGewKW"
      }
    },
    {
      "cell_type": "code",
      "source": [
        "import pandas as pd\n",
        "import numpy as np\n",
        "import tensorflow as tf"
      ],
      "metadata": {
        "id": "pG4nQXIRevwE"
      },
      "execution_count": 36,
      "outputs": []
    },
    {
      "cell_type": "code",
      "source": [
        "from sklearn.model_selection import train_test_split\n",
        "from sklearn.ensemble import RandomForestClassifier\n",
        "from sklearn.metrics import classification_report, accuracy_score\n",
        "from sklearn.neighbors import NearestNeighbors\n",
        "from sklearn.preprocessing import StandardScaler, OneHotEncoder\n",
        "from sklearn.compose import ColumnTransformer\n",
        "from sklearn.pipeline import Pipeline\n",
        "from sklearn.impute import SimpleImputer\n",
        "from sklearn.linear_model import LinearRegression\n",
        "from sklearn.metrics import mean_squared_error\n",
        "from sklearn.preprocessing import LabelEncoder"
      ],
      "metadata": {
        "id": "nq7IvYrXe4yE"
      },
      "execution_count": 37,
      "outputs": []
    },
    {
      "cell_type": "markdown",
      "source": [
        "untuk menyimpan model"
      ],
      "metadata": {
        "id": "WpjvD9Y8fC0u"
      }
    },
    {
      "cell_type": "code",
      "source": [
        "import joblib"
      ],
      "metadata": {
        "id": "yQ-APR-mfCea"
      },
      "execution_count": 38,
      "outputs": []
    },
    {
      "cell_type": "markdown",
      "source": [
        "untuk menyimpan rekomendasi dalam format JSON"
      ],
      "metadata": {
        "id": "kinbT7DNfMHX"
      }
    },
    {
      "cell_type": "code",
      "source": [
        "import json"
      ],
      "metadata": {
        "id": "w0gGEl-HfM5R"
      },
      "execution_count": 39,
      "outputs": []
    },
    {
      "cell_type": "markdown",
      "source": [
        "untuk Sistem Rekomendasi"
      ],
      "metadata": {
        "id": "WC-anpXya3LM"
      }
    },
    {
      "cell_type": "code",
      "source": [
        "from sklearn.feature_extraction.text import TfidfVectorizer\n",
        "from sklearn.metrics.pairwise import linear_kernel"
      ],
      "metadata": {
        "id": "PbQG1FFmazSk"
      },
      "execution_count": 40,
      "outputs": []
    },
    {
      "cell_type": "markdown",
      "source": [
        "untuk pengolahan data waktu"
      ],
      "metadata": {
        "id": "RblJQSMMbAzi"
      }
    },
    {
      "cell_type": "code",
      "source": [
        "from datetime import datetime, timedelta"
      ],
      "metadata": {
        "id": "-5CHcMx4bFE2"
      },
      "execution_count": 41,
      "outputs": []
    },
    {
      "cell_type": "markdown",
      "source": [
        "untuk tensorflow lite"
      ],
      "metadata": {
        "id": "BujNXzYLbLFB"
      }
    },
    {
      "cell_type": "code",
      "source": [
        "import tensorflow as tf\n",
        "from tensorflow import keras\n",
        "from tensorflow.keras import layers"
      ],
      "metadata": {
        "id": "cRTMhXWobKyI"
      },
      "execution_count": 42,
      "outputs": []
    },
    {
      "cell_type": "markdown",
      "source": [
        "untuk visualisasi"
      ],
      "metadata": {
        "id": "7igMib86bRaH"
      }
    },
    {
      "cell_type": "code",
      "source": [
        "import matplotlib.pyplot as plt\n",
        "import seaborn as sns"
      ],
      "metadata": {
        "id": "T3hSIEJzbQ_R"
      },
      "execution_count": 43,
      "outputs": []
    },
    {
      "cell_type": "markdown",
      "source": [
        "untuk evaluasi model"
      ],
      "metadata": {
        "id": "aWwAjzgTbbF-"
      }
    },
    {
      "cell_type": "code",
      "source": [
        "from sklearn.metrics import mean_squared_error"
      ],
      "metadata": {
        "id": "ONsltOKzbaQJ"
      },
      "execution_count": 44,
      "outputs": []
    },
    {
      "cell_type": "markdown",
      "source": [
        "untuk menyimpan model tensorflow"
      ],
      "metadata": {
        "id": "sVJyNVs1bgoj"
      }
    },
    {
      "cell_type": "code",
      "source": [
        "import os\n",
        "import chardet"
      ],
      "metadata": {
        "id": "McQA9_rhbgNW"
      },
      "execution_count": 45,
      "outputs": []
    },
    {
      "cell_type": "markdown",
      "source": [
        "**Preprocessing**"
      ],
      "metadata": {
        "id": "4aqduzviON3f"
      }
    },
    {
      "cell_type": "markdown",
      "source": [
        "load dataset"
      ],
      "metadata": {
        "id": "YGLhyGZLOT9Y"
      }
    },
    {
      "cell_type": "code",
      "source": [
        "def load_and_preprocess_data():\n",
        "    # Memuat dataset stunting\n",
        "    toddlers_df = pd.read_csv('/content/GroUp/Stunting_Dataset.csv')\n",
        "\n",
        "    # Mendeteksi encoding untuk file nutrition.csv\n",
        "    with open('/content/GroUp/nutrition.csv', 'rb') as f:\n",
        "        result = chardet.detect(f.read())\n",
        "        encoding = result['encoding']\n",
        "\n",
        "    print(f\"Detected encoding: {encoding}\")\n",
        "\n",
        "    # Membaca file nutrition.csv dengan encoding yang terdeteksi\n",
        "    nutrition_df = pd.read_csv('/content/GroUp/nutrition.csv', encoding=encoding)\n",
        "\n",
        "    return toddlers_df, nutrition_df"
      ],
      "metadata": {
        "id": "2qgDi8uU1RG5"
      },
      "execution_count": 46,
      "outputs": []
    },
    {
      "cell_type": "markdown",
      "source": [],
      "metadata": {
        "id": "23pnwdMJPLJH"
      }
    }
  ]
}